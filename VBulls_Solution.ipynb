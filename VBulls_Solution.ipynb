{
 "cells": [
  {
   "cell_type": "markdown",
   "metadata": {
    "id": "BtsL-Rbj1_Kh"
   },
   "source": [
    "# <center>Encontro Módulo 1 - Case Churn</center>\n",
    "___"
   ]
  },
  {
   "cell_type": "markdown",
   "metadata": {
    "id": "diLZ_lCj2ICr"
   },
   "source": [
    "## Conteúdo\n",
    "* 0 - [Introdução](#intro) <br>\n",
    "* 4 - [Aquisição dos Dados](#data) <br>\n",
    "* 5 - [Pré-processamento de dados](#clean) <br>\n",
    "* 6 - [Análise Exploratória](#eda) <br>\n",
    "* 7 - [Feature Engineering](#fe) <br>\n",
    "* 8 - [Construção do Modelo](#model) <br>\n",
    "\n",
    "<a id=\"casemod1\"></a>"
   ]
  },
  {
   "cell_type": "markdown",
   "metadata": {
    "id": "-GvzJCPR2VL7"
   },
   "source": [
    "<a id='intro'></a>\n",
    "## 0. Introdução\n",
    "\n",
    "Esse notebook será utilizado como apoio ao case apresentado no encontro do final do módulo 1.\n",
    "\n",
    "O intuito desse notebook é mostrar como fazemos para aplicar o *pipeline* de ciência de dados em um projeto real. Para simplicidade, alguns passos do *pipeline* serão passados de forma bem breve e não exaustiva, apenas para fim de exemplificação. Além disso, utilizaremos de técnicas e conceitos que serão apresentados mais pra frente no nosso curso, então não é esperado que você conheça e entenda 100% do código desse notebook.\n",
    "\n",
    "Como exercício, a medida que você for avançando no curso, volte para esse notebook e tente verificar o que mais poderia ter sido feito em cada etapa, além de tentar entender aqueles passos que não estão claros para você nesse primeiro momento."
   ]
  },
  {
   "cell_type": "markdown",
   "metadata": {
    "id": "dB4f7wvw4_Tw"
   },
   "source": [
    "<a id='data'></a>\n",
    "## 4. Aquisição dos Dados\n",
    "\n",
    "Os dados utilizados nesse notebook estão no arquivo ```bd_churn.txt```. O código abaixo apenas lê o arquivo em um ```DataFrame```, uma estrutura de dados da biblioteca ```pandas```, que é bastante utilizada em ciência de dados. Essa estrutura trata os dados como tabelas, com linhas e colunas, bem parecido com o excel. No próximo módulo teremos uma aula específica para entender melhor sobre esse pacote."
   ]
  },
  {
   "cell_type": "code",
   "execution_count": 1,
   "metadata": {
    "id": "Z4gKHdF50vX-"
   },
   "outputs": [
    {
     "name": "stderr",
     "output_type": "stream",
     "text": [
      "C:\\Users\\yrbel\\AppData\\Local\\Temp\\ipykernel_8972\\4175232269.py:3: DtypeWarning: Columns (46) have mixed types. Specify dtype option on import or set low_memory=False.\n",
      "  df_churn = pd.read_csv('bd_churn.txt', sep='\\t', decimal='.')\n"
     ]
    },
    {
     "data": {
      "text/html": [
       "<div>\n",
       "<style scoped>\n",
       "    .dataframe tbody tr th:only-of-type {\n",
       "        vertical-align: middle;\n",
       "    }\n",
       "\n",
       "    .dataframe tbody tr th {\n",
       "        vertical-align: top;\n",
       "    }\n",
       "\n",
       "    .dataframe thead th {\n",
       "        text-align: right;\n",
       "    }\n",
       "</style>\n",
       "<table border=\"1\" class=\"dataframe\">\n",
       "  <thead>\n",
       "    <tr style=\"text-align: right;\">\n",
       "      <th></th>\n",
       "      <th>CUST_ID</th>\n",
       "      <th>START_DT</th>\n",
       "      <th>END_DT</th>\n",
       "      <th>LATE_ST</th>\n",
       "      <th>CREDIT_CLASS</th>\n",
       "      <th>INC_RANGE</th>\n",
       "      <th>GENDER</th>\n",
       "      <th>AGE</th>\n",
       "      <th>INCOME</th>\n",
       "      <th>CUST_TYPE</th>\n",
       "      <th>...</th>\n",
       "      <th>CR_DT3</th>\n",
       "      <th>PAY_VAL1</th>\n",
       "      <th>PAY_VAL2</th>\n",
       "      <th>PAY_VAL3</th>\n",
       "      <th>DUE_VAL1</th>\n",
       "      <th>DUE_VAL2</th>\n",
       "      <th>DUE_VAL3</th>\n",
       "      <th>CHURN_FL</th>\n",
       "      <th>TEN_RAW</th>\n",
       "      <th>TENURE</th>\n",
       "    </tr>\n",
       "  </thead>\n",
       "  <tbody>\n",
       "    <tr>\n",
       "      <th>0</th>\n",
       "      <td>1</td>\n",
       "      <td>2013-05-23</td>\n",
       "      <td>2013-05-23</td>\n",
       "      <td>N</td>\n",
       "      <td>0</td>\n",
       "      <td>60</td>\n",
       "      <td>F</td>\n",
       "      <td>47</td>\n",
       "      <td>6000.0</td>\n",
       "      <td>S</td>\n",
       "      <td>...</td>\n",
       "      <td>2015-01-22</td>\n",
       "      <td>1921.64</td>\n",
       "      <td>1921.64</td>\n",
       "      <td>1921.64</td>\n",
       "      <td>1891.64</td>\n",
       "      <td>1891.64</td>\n",
       "      <td>1891.64</td>\n",
       "      <td>0</td>\n",
       "      <td>54259200</td>\n",
       "      <td>0.951916</td>\n",
       "    </tr>\n",
       "    <tr>\n",
       "      <th>1</th>\n",
       "      <td>2</td>\n",
       "      <td>2014-04-14</td>\n",
       "      <td>2014-04-14</td>\n",
       "      <td>N</td>\n",
       "      <td>0</td>\n",
       "      <td>0</td>\n",
       "      <td>F</td>\n",
       "      <td>0</td>\n",
       "      <td>0.0</td>\n",
       "      <td>S</td>\n",
       "      <td>...</td>\n",
       "      <td>2015-01-10</td>\n",
       "      <td>455.17</td>\n",
       "      <td>455.17</td>\n",
       "      <td>455.17</td>\n",
       "      <td>455.17</td>\n",
       "      <td>455.17</td>\n",
       "      <td>455.17</td>\n",
       "      <td>0</td>\n",
       "      <td>26092800</td>\n",
       "      <td>0.457768</td>\n",
       "    </tr>\n",
       "    <tr>\n",
       "      <th>2</th>\n",
       "      <td>3</td>\n",
       "      <td>2013-07-01</td>\n",
       "      <td>2013-07-01</td>\n",
       "      <td>N</td>\n",
       "      <td>0</td>\n",
       "      <td>0</td>\n",
       "      <td>M</td>\n",
       "      <td>53</td>\n",
       "      <td>0.0</td>\n",
       "      <td>S</td>\n",
       "      <td>...</td>\n",
       "      <td>2015-01-04</td>\n",
       "      <td>1281.07</td>\n",
       "      <td>1281.07</td>\n",
       "      <td>1281.07</td>\n",
       "      <td>1281.07</td>\n",
       "      <td>1281.07</td>\n",
       "      <td>1281.07</td>\n",
       "      <td>0</td>\n",
       "      <td>50889600</td>\n",
       "      <td>0.892800</td>\n",
       "    </tr>\n",
       "    <tr>\n",
       "      <th>3</th>\n",
       "      <td>4</td>\n",
       "      <td>2013-06-16</td>\n",
       "      <td>2014-11-26</td>\n",
       "      <td>N</td>\n",
       "      <td>0</td>\n",
       "      <td>20</td>\n",
       "      <td>M</td>\n",
       "      <td>65</td>\n",
       "      <td>2000.0</td>\n",
       "      <td>S</td>\n",
       "      <td>...</td>\n",
       "      <td>2015-01-11</td>\n",
       "      <td>1653.90</td>\n",
       "      <td>1653.90</td>\n",
       "      <td>1653.90</td>\n",
       "      <td>1653.90</td>\n",
       "      <td>1653.90</td>\n",
       "      <td>1653.90</td>\n",
       "      <td>0</td>\n",
       "      <td>52185600</td>\n",
       "      <td>0.915537</td>\n",
       "    </tr>\n",
       "    <tr>\n",
       "      <th>4</th>\n",
       "      <td>5</td>\n",
       "      <td>2014-04-29</td>\n",
       "      <td>2014-05-18</td>\n",
       "      <td>N</td>\n",
       "      <td>0</td>\n",
       "      <td>0</td>\n",
       "      <td>M</td>\n",
       "      <td>37</td>\n",
       "      <td>0.0</td>\n",
       "      <td>S</td>\n",
       "      <td>...</td>\n",
       "      <td>2015-01-10</td>\n",
       "      <td>649.18</td>\n",
       "      <td>649.18</td>\n",
       "      <td>649.18</td>\n",
       "      <td>649.18</td>\n",
       "      <td>649.18</td>\n",
       "      <td>649.18</td>\n",
       "      <td>0</td>\n",
       "      <td>24796800</td>\n",
       "      <td>0.435032</td>\n",
       "    </tr>\n",
       "  </tbody>\n",
       "</table>\n",
       "<p>5 rows × 75 columns</p>\n",
       "</div>"
      ],
      "text/plain": [
       "   CUST_ID    START_DT      END_DT LATE_ST CREDIT_CLASS  INC_RANGE GENDER  \\\n",
       "0        1  2013-05-23  2013-05-23       N            0         60      F   \n",
       "1        2  2014-04-14  2014-04-14       N            0          0      F   \n",
       "2        3  2013-07-01  2013-07-01       N            0          0      M   \n",
       "3        4  2013-06-16  2014-11-26       N            0         20      M   \n",
       "4        5  2014-04-29  2014-05-18       N            0          0      M   \n",
       "\n",
       "   AGE  INCOME CUST_TYPE  ...      CR_DT3 PAY_VAL1  PAY_VAL2  PAY_VAL3  \\\n",
       "0   47  6000.0         S  ...  2015-01-22  1921.64   1921.64   1921.64   \n",
       "1    0     0.0         S  ...  2015-01-10   455.17    455.17    455.17   \n",
       "2   53     0.0         S  ...  2015-01-04  1281.07   1281.07   1281.07   \n",
       "3   65  2000.0         S  ...  2015-01-11  1653.90   1653.90   1653.90   \n",
       "4   37     0.0         S  ...  2015-01-10   649.18    649.18    649.18   \n",
       "\n",
       "   DUE_VAL1  DUE_VAL2  DUE_VAL3 CHURN_FL   TEN_RAW    TENURE  \n",
       "0   1891.64   1891.64   1891.64        0  54259200  0.951916  \n",
       "1    455.17    455.17    455.17        0  26092800  0.457768  \n",
       "2   1281.07   1281.07   1281.07        0  50889600  0.892800  \n",
       "3   1653.90   1653.90   1653.90        0  52185600  0.915537  \n",
       "4    649.18    649.18    649.18        0  24796800  0.435032  \n",
       "\n",
       "[5 rows x 75 columns]"
      ]
     },
     "execution_count": 1,
     "metadata": {},
     "output_type": "execute_result"
    }
   ],
   "source": [
    "import pandas as pd\n",
    "\n",
    "df_churn = pd.read_csv('bd_churn.txt', sep='\\t', decimal='.')\n",
    "df_churn.head()"
   ]
  },
  {
   "cell_type": "code",
   "execution_count": 2,
   "metadata": {
    "id": "1hG9_G2F9GbZ"
   },
   "outputs": [
    {
     "name": "stdout",
     "output_type": "stream",
     "text": [
      "<class 'pandas.core.frame.DataFrame'>\n",
      "RangeIndex: 10000 entries, 0 to 9999\n",
      "Data columns (total 75 columns):\n",
      " #   Column        Non-Null Count  Dtype  \n",
      "---  ------        --------------  -----  \n",
      " 0   CUST_ID       10000 non-null  int64  \n",
      " 1   START_DT      10000 non-null  object \n",
      " 2   END_DT        10000 non-null  object \n",
      " 3   LATE_ST       10000 non-null  object \n",
      " 4   CREDIT_CLASS  10000 non-null  object \n",
      " 5   INC_RANGE     10000 non-null  int64  \n",
      " 6   GENDER        10000 non-null  object \n",
      " 7   AGE           10000 non-null  int64  \n",
      " 8   INCOME        10000 non-null  float64\n",
      " 9   CUST_TYPE     10000 non-null  object \n",
      " 10  INPUT_DT      10000 non-null  object \n",
      " 11  ACCT_TYPE     10000 non-null  object \n",
      " 12  AMT_CHARGED1  10000 non-null  int64  \n",
      " 13  AMT_CHARGED2  10000 non-null  int64  \n",
      " 14  AMT_CHARGED3  10000 non-null  int64  \n",
      " 15  CALL_TP1      10000 non-null  int64  \n",
      " 16  CALL_TP2      10000 non-null  int64  \n",
      " 17  CALL_TP3      10000 non-null  object \n",
      " 18  NUM_SP1       10000 non-null  int64  \n",
      " 19  NUM_SP2       10000 non-null  int64  \n",
      " 20  NUM_SP3       10000 non-null  int64  \n",
      " 21  DUR1          10000 non-null  float64\n",
      " 22  DUR2          10000 non-null  float64\n",
      " 23  DUR3          10000 non-null  float64\n",
      " 24  CALLS1        10000 non-null  int64  \n",
      " 25  CALLS2        10000 non-null  int64  \n",
      " 26  CALLS3        10000 non-null  int64  \n",
      " 27  BAN_ST1       10000 non-null  object \n",
      " 28  BAN_ST2       10000 non-null  object \n",
      " 29  BAN_ST3       10000 non-null  object \n",
      " 30  CLOSED1       10000 non-null  object \n",
      " 31  CLOSED2       10000 non-null  object \n",
      " 32  CLOSED3       10000 non-null  object \n",
      " 33  DUE_DT1       9811 non-null   object \n",
      " 34  DUE_DT2       9437 non-null   object \n",
      " 35  DUE_DT3       9105 non-null   object \n",
      " 36  CHARGE1       10000 non-null  float64\n",
      " 37  CHARGE2       10000 non-null  float64\n",
      " 38  CHARGE3       10000 non-null  float64\n",
      " 39  CH_BEG1       10000 non-null  object \n",
      " 40  CH_BEG2       10000 non-null  object \n",
      " 41  CH_BEG3       10000 non-null  object \n",
      " 42  CH_END1       10000 non-null  object \n",
      " 43  CH_END2       10000 non-null  object \n",
      " 44  CH_END3       10000 non-null  object \n",
      " 45  BILL_ST1      10000 non-null  int64  \n",
      " 46  BILL_ST2      10000 non-null  object \n",
      " 47  BILL_ST3      10000 non-null  object \n",
      " 48  LT_PMT1       10000 non-null  int64  \n",
      " 49  LT_PMT2       10000 non-null  int64  \n",
      " 50  LT_PM3        10000 non-null  int64  \n",
      " 51  ADJ1          10000 non-null  float64\n",
      " 52  ADJ2          10000 non-null  float64\n",
      " 53  ADJ3          10000 non-null  float64\n",
      " 54  RECURR1       10000 non-null  float64\n",
      " 55  RECURR2       10000 non-null  float64\n",
      " 56  RECURR3       10000 non-null  float64\n",
      " 57  ONETIME1      10000 non-null  float64\n",
      " 58  ONETIME2      10000 non-null  float64\n",
      " 59  ONETIME3      10000 non-null  float64\n",
      " 60  P_METH1       10000 non-null  object \n",
      " 61  P_METH2       10000 non-null  object \n",
      " 62  P_METH3       10000 non-null  object \n",
      " 63  CR_DT1        9778 non-null   object \n",
      " 64  CR_DT2        9420 non-null   object \n",
      " 65  CR_DT3        9103 non-null   object \n",
      " 66  PAY_VAL1      10000 non-null  float64\n",
      " 67  PAY_VAL2      10000 non-null  float64\n",
      " 68  PAY_VAL3      10000 non-null  float64\n",
      " 69  DUE_VAL1      10000 non-null  float64\n",
      " 70  DUE_VAL2      10000 non-null  float64\n",
      " 71  DUE_VAL3      10000 non-null  float64\n",
      " 72  CHURN_FL      10000 non-null  int64  \n",
      " 73  TEN_RAW       10000 non-null  int64  \n",
      " 74  TENURE        10000 non-null  float64\n",
      "dtypes: float64(23), int64(20), object(32)\n",
      "memory usage: 5.7+ MB\n"
     ]
    }
   ],
   "source": [
    "df_churn.info()"
   ]
  },
  {
   "cell_type": "markdown",
   "metadata": {
    "id": "RffF3MQoExye"
   },
   "source": [
    "<a id='clean'></a>\n",
    "## 5. Pré-processamento de Dados\n",
    "\n",
    "Como um primeiro passo após o entendimento básico dos dados temos o tratamento deles. Primeiro vamos remover algumas colunas dos dados e depois faremos um tratamento de exemplo. Existem alguns tratamentos diferentes que podemos fazer, mas aqui vamos focar no tratamento de valores nulos. Esse tratamento pode ser feito substituindo os nulos por outros valores ou retirando as linhas que contém nulos. Nesse caso, seguiremos pelo segundo caminho, utilizando o método ```.dropna()```.\n"
   ]
  },
  {
   "cell_type": "code",
   "execution_count": 3,
   "metadata": {
    "id": "U_Qr8-3wFivx"
   },
   "outputs": [
    {
     "name": "stdout",
     "output_type": "stream",
     "text": [
      "<class 'pandas.core.frame.DataFrame'>\n",
      "RangeIndex: 10000 entries, 0 to 9999\n",
      "Data columns (total 42 columns):\n",
      " #   Column        Non-Null Count  Dtype  \n",
      "---  ------        --------------  -----  \n",
      " 0   LATE_ST       10000 non-null  object \n",
      " 1   CREDIT_CLASS  10000 non-null  object \n",
      " 2   INC_RANGE     10000 non-null  int64  \n",
      " 3   GENDER        10000 non-null  object \n",
      " 4   AGE           10000 non-null  int64  \n",
      " 5   INCOME        10000 non-null  float64\n",
      " 6   CUST_TYPE     10000 non-null  object \n",
      " 7   AMT_CHARGED1  10000 non-null  int64  \n",
      " 8   AMT_CHARGED2  10000 non-null  int64  \n",
      " 9   AMT_CHARGED3  10000 non-null  int64  \n",
      " 10  CALL_TP1      10000 non-null  int64  \n",
      " 11  CALL_TP2      10000 non-null  int64  \n",
      " 12  CALL_TP3      10000 non-null  object \n",
      " 13  NUM_SP1       10000 non-null  int64  \n",
      " 14  NUM_SP2       10000 non-null  int64  \n",
      " 15  NUM_SP3       10000 non-null  int64  \n",
      " 16  DUR1          10000 non-null  float64\n",
      " 17  DUR2          10000 non-null  float64\n",
      " 18  DUR3          10000 non-null  float64\n",
      " 19  CALLS1        10000 non-null  int64  \n",
      " 20  CALLS2        10000 non-null  int64  \n",
      " 21  CALLS3        10000 non-null  int64  \n",
      " 22  BAN_ST1       10000 non-null  object \n",
      " 23  BAN_ST2       10000 non-null  object \n",
      " 24  BAN_ST3       10000 non-null  object \n",
      " 25  RECURR1       10000 non-null  float64\n",
      " 26  RECURR2       10000 non-null  float64\n",
      " 27  RECURR3       10000 non-null  float64\n",
      " 28  ONETIME1      10000 non-null  float64\n",
      " 29  ONETIME2      10000 non-null  float64\n",
      " 30  ONETIME3      10000 non-null  float64\n",
      " 31  P_METH1       10000 non-null  object \n",
      " 32  P_METH2       10000 non-null  object \n",
      " 33  P_METH3       10000 non-null  object \n",
      " 34  PAY_VAL1      10000 non-null  float64\n",
      " 35  PAY_VAL2      10000 non-null  float64\n",
      " 36  PAY_VAL3      10000 non-null  float64\n",
      " 37  DUE_VAL1      10000 non-null  float64\n",
      " 38  DUE_VAL2      10000 non-null  float64\n",
      " 39  DUE_VAL3      10000 non-null  float64\n",
      " 40  CHURN_FL      10000 non-null  int64  \n",
      " 41  TENURE        10000 non-null  float64\n",
      "dtypes: float64(17), int64(14), object(11)\n",
      "memory usage: 3.2+ MB\n"
     ]
    }
   ],
   "source": [
    "df_churn = df_churn.drop([\"CUST_ID\", \"START_DT\", \"END_DT\", \"INPUT_DT\", \"ACCT_TYPE\", \n",
    "                          \"CLOSED1\", \"CLOSED2\", \"CLOSED3\", \"DUE_DT1\", \"DUE_DT2\", \"DUE_DT3\", \n",
    "                          \"CHARGE1\", \"CHARGE2\", \"CHARGE3\", \"CH_BEG1\", \"CH_BEG2\", \"CH_BEG3\", \n",
    "                          \"CH_END1\", \"CH_END2\", \"CH_END3\", \"BILL_ST1\", \"BILL_ST2\", \"BILL_ST3\", \n",
    "                          \"LT_PMT1\", \"LT_PMT2\", \"LT_PM3\", \"ADJ1\", \"ADJ2\", \"ADJ3\", \"CR_DT1\",\n",
    "                          \"CR_DT2\", \"CR_DT3\", \"TEN_RAW\"], axis=1)\n",
    "df_churn = df_churn.dropna()\n",
    "df_churn.info()"
   ]
  },
  {
   "cell_type": "code",
   "execution_count": 4,
   "metadata": {
    "id": "_ktILCQizukI"
   },
   "outputs": [
    {
     "data": {
      "text/html": [
       "<div>\n",
       "<style scoped>\n",
       "    .dataframe tbody tr th:only-of-type {\n",
       "        vertical-align: middle;\n",
       "    }\n",
       "\n",
       "    .dataframe tbody tr th {\n",
       "        vertical-align: top;\n",
       "    }\n",
       "\n",
       "    .dataframe thead th {\n",
       "        text-align: right;\n",
       "    }\n",
       "</style>\n",
       "<table border=\"1\" class=\"dataframe\">\n",
       "  <thead>\n",
       "    <tr style=\"text-align: right;\">\n",
       "      <th></th>\n",
       "      <th>LATE_ST</th>\n",
       "      <th>CREDIT_CLASS</th>\n",
       "      <th>INC_RANGE</th>\n",
       "      <th>GENDER</th>\n",
       "      <th>AGE</th>\n",
       "      <th>INCOME</th>\n",
       "      <th>CUST_TYPE</th>\n",
       "      <th>AMT_CHARGED1</th>\n",
       "      <th>AMT_CHARGED2</th>\n",
       "      <th>AMT_CHARGED3</th>\n",
       "      <th>...</th>\n",
       "      <th>P_METH2</th>\n",
       "      <th>P_METH3</th>\n",
       "      <th>PAY_VAL1</th>\n",
       "      <th>PAY_VAL2</th>\n",
       "      <th>PAY_VAL3</th>\n",
       "      <th>DUE_VAL1</th>\n",
       "      <th>DUE_VAL2</th>\n",
       "      <th>DUE_VAL3</th>\n",
       "      <th>CHURN_FL</th>\n",
       "      <th>TENURE</th>\n",
       "    </tr>\n",
       "  </thead>\n",
       "  <tbody>\n",
       "    <tr>\n",
       "      <th>0</th>\n",
       "      <td>N</td>\n",
       "      <td>0</td>\n",
       "      <td>60</td>\n",
       "      <td>F</td>\n",
       "      <td>47</td>\n",
       "      <td>6000.0</td>\n",
       "      <td>S</td>\n",
       "      <td>9</td>\n",
       "      <td>11</td>\n",
       "      <td>7</td>\n",
       "      <td>...</td>\n",
       "      <td>DD</td>\n",
       "      <td>DD</td>\n",
       "      <td>1921.64</td>\n",
       "      <td>1921.64</td>\n",
       "      <td>1921.64</td>\n",
       "      <td>1891.64</td>\n",
       "      <td>1891.64</td>\n",
       "      <td>1891.64</td>\n",
       "      <td>0</td>\n",
       "      <td>0.951916</td>\n",
       "    </tr>\n",
       "    <tr>\n",
       "      <th>1</th>\n",
       "      <td>N</td>\n",
       "      <td>0</td>\n",
       "      <td>0</td>\n",
       "      <td>F</td>\n",
       "      <td>0</td>\n",
       "      <td>0.0</td>\n",
       "      <td>S</td>\n",
       "      <td>5</td>\n",
       "      <td>6</td>\n",
       "      <td>6</td>\n",
       "      <td>...</td>\n",
       "      <td>PB</td>\n",
       "      <td>PB</td>\n",
       "      <td>455.17</td>\n",
       "      <td>455.17</td>\n",
       "      <td>455.17</td>\n",
       "      <td>455.17</td>\n",
       "      <td>455.17</td>\n",
       "      <td>455.17</td>\n",
       "      <td>0</td>\n",
       "      <td>0.457768</td>\n",
       "    </tr>\n",
       "    <tr>\n",
       "      <th>2</th>\n",
       "      <td>N</td>\n",
       "      <td>0</td>\n",
       "      <td>0</td>\n",
       "      <td>M</td>\n",
       "      <td>53</td>\n",
       "      <td>0.0</td>\n",
       "      <td>S</td>\n",
       "      <td>5</td>\n",
       "      <td>10</td>\n",
       "      <td>7</td>\n",
       "      <td>...</td>\n",
       "      <td>PB</td>\n",
       "      <td>PB</td>\n",
       "      <td>1281.07</td>\n",
       "      <td>1281.07</td>\n",
       "      <td>1281.07</td>\n",
       "      <td>1281.07</td>\n",
       "      <td>1281.07</td>\n",
       "      <td>1281.07</td>\n",
       "      <td>0</td>\n",
       "      <td>0.892800</td>\n",
       "    </tr>\n",
       "    <tr>\n",
       "      <th>3</th>\n",
       "      <td>N</td>\n",
       "      <td>0</td>\n",
       "      <td>20</td>\n",
       "      <td>M</td>\n",
       "      <td>65</td>\n",
       "      <td>2000.0</td>\n",
       "      <td>S</td>\n",
       "      <td>11</td>\n",
       "      <td>11</td>\n",
       "      <td>11</td>\n",
       "      <td>...</td>\n",
       "      <td>PB</td>\n",
       "      <td>PB</td>\n",
       "      <td>1653.90</td>\n",
       "      <td>1653.90</td>\n",
       "      <td>1653.90</td>\n",
       "      <td>1653.90</td>\n",
       "      <td>1653.90</td>\n",
       "      <td>1653.90</td>\n",
       "      <td>0</td>\n",
       "      <td>0.915537</td>\n",
       "    </tr>\n",
       "    <tr>\n",
       "      <th>4</th>\n",
       "      <td>N</td>\n",
       "      <td>0</td>\n",
       "      <td>0</td>\n",
       "      <td>M</td>\n",
       "      <td>37</td>\n",
       "      <td>0.0</td>\n",
       "      <td>S</td>\n",
       "      <td>8</td>\n",
       "      <td>9</td>\n",
       "      <td>10</td>\n",
       "      <td>...</td>\n",
       "      <td>PB</td>\n",
       "      <td>PB</td>\n",
       "      <td>649.18</td>\n",
       "      <td>649.18</td>\n",
       "      <td>649.18</td>\n",
       "      <td>649.18</td>\n",
       "      <td>649.18</td>\n",
       "      <td>649.18</td>\n",
       "      <td>0</td>\n",
       "      <td>0.435032</td>\n",
       "    </tr>\n",
       "  </tbody>\n",
       "</table>\n",
       "<p>5 rows × 42 columns</p>\n",
       "</div>"
      ],
      "text/plain": [
       "  LATE_ST CREDIT_CLASS  INC_RANGE GENDER  AGE  INCOME CUST_TYPE  AMT_CHARGED1  \\\n",
       "0       N            0         60      F   47  6000.0         S             9   \n",
       "1       N            0          0      F    0     0.0         S             5   \n",
       "2       N            0          0      M   53     0.0         S             5   \n",
       "3       N            0         20      M   65  2000.0         S            11   \n",
       "4       N            0          0      M   37     0.0         S             8   \n",
       "\n",
       "   AMT_CHARGED2  AMT_CHARGED3  ...  P_METH2  P_METH3 PAY_VAL1  PAY_VAL2  \\\n",
       "0            11             7  ...       DD       DD  1921.64   1921.64   \n",
       "1             6             6  ...       PB       PB   455.17    455.17   \n",
       "2            10             7  ...       PB       PB  1281.07   1281.07   \n",
       "3            11            11  ...       PB       PB  1653.90   1653.90   \n",
       "4             9            10  ...       PB       PB   649.18    649.18   \n",
       "\n",
       "   PAY_VAL3  DUE_VAL1  DUE_VAL2  DUE_VAL3  CHURN_FL    TENURE  \n",
       "0   1921.64   1891.64   1891.64   1891.64         0  0.951916  \n",
       "1    455.17    455.17    455.17    455.17         0  0.457768  \n",
       "2   1281.07   1281.07   1281.07   1281.07         0  0.892800  \n",
       "3   1653.90   1653.90   1653.90   1653.90         0  0.915537  \n",
       "4    649.18    649.18    649.18    649.18         0  0.435032  \n",
       "\n",
       "[5 rows x 42 columns]"
      ]
     },
     "execution_count": 4,
     "metadata": {},
     "output_type": "execute_result"
    }
   ],
   "source": [
    "df_churn.head()"
   ]
  },
  {
   "cell_type": "markdown",
   "metadata": {
    "id": "pIRot9_A9GbJ"
   },
   "source": [
    "<a id='eda'></a>\n",
    "## 6. Análise Exploratória\n",
    "\n",
    "### Análise univariada\n",
    "Uma das primeiras ações que tomamos ao ler dados em um ```DataFrame``` (df) é pegar algumas características dele como tamanho, tipos de dado, quantidade de nulos e etc. Na célula anterior já utilizamos o método ```.head()``` para ver as primeiras linhas do nosso df. Vamos então utilizar também o método ```.info()``` para ver tamanho e tipos de dados e o ```.describe()``` para obter informações sobre as colunas numéricas."
   ]
  },
  {
   "cell_type": "code",
   "execution_count": 5,
   "metadata": {
    "id": "6VQaUK2G-cYL"
   },
   "outputs": [
    {
     "data": {
      "text/html": [
       "<div>\n",
       "<style scoped>\n",
       "    .dataframe tbody tr th:only-of-type {\n",
       "        vertical-align: middle;\n",
       "    }\n",
       "\n",
       "    .dataframe tbody tr th {\n",
       "        vertical-align: top;\n",
       "    }\n",
       "\n",
       "    .dataframe thead th {\n",
       "        text-align: right;\n",
       "    }\n",
       "</style>\n",
       "<table border=\"1\" class=\"dataframe\">\n",
       "  <thead>\n",
       "    <tr style=\"text-align: right;\">\n",
       "      <th></th>\n",
       "      <th>INC_RANGE</th>\n",
       "      <th>AGE</th>\n",
       "      <th>INCOME</th>\n",
       "      <th>AMT_CHARGED1</th>\n",
       "      <th>AMT_CHARGED2</th>\n",
       "      <th>AMT_CHARGED3</th>\n",
       "      <th>CALL_TP1</th>\n",
       "      <th>CALL_TP2</th>\n",
       "      <th>NUM_SP1</th>\n",
       "      <th>NUM_SP2</th>\n",
       "      <th>...</th>\n",
       "      <th>ONETIME2</th>\n",
       "      <th>ONETIME3</th>\n",
       "      <th>PAY_VAL1</th>\n",
       "      <th>PAY_VAL2</th>\n",
       "      <th>PAY_VAL3</th>\n",
       "      <th>DUE_VAL1</th>\n",
       "      <th>DUE_VAL2</th>\n",
       "      <th>DUE_VAL3</th>\n",
       "      <th>CHURN_FL</th>\n",
       "      <th>TENURE</th>\n",
       "    </tr>\n",
       "  </thead>\n",
       "  <tbody>\n",
       "    <tr>\n",
       "      <th>count</th>\n",
       "      <td>10000.000000</td>\n",
       "      <td>10000.000000</td>\n",
       "      <td>10000.000000</td>\n",
       "      <td>10000.000000</td>\n",
       "      <td>10000.000000</td>\n",
       "      <td>10000.000000</td>\n",
       "      <td>10000.000000</td>\n",
       "      <td>10000.000000</td>\n",
       "      <td>10000.000000</td>\n",
       "      <td>10000.000000</td>\n",
       "      <td>...</td>\n",
       "      <td>10000.000000</td>\n",
       "      <td>10000.000000</td>\n",
       "      <td>10000.000000</td>\n",
       "      <td>10000.000000</td>\n",
       "      <td>10000.000000</td>\n",
       "      <td>10000.000000</td>\n",
       "      <td>10000.000000</td>\n",
       "      <td>10000.000000</td>\n",
       "      <td>10000.000000</td>\n",
       "      <td>10000.000000</td>\n",
       "    </tr>\n",
       "    <tr>\n",
       "      <th>mean</th>\n",
       "      <td>15.952500</td>\n",
       "      <td>36.746900</td>\n",
       "      <td>1573.020478</td>\n",
       "      <td>9.728900</td>\n",
       "      <td>10.307800</td>\n",
       "      <td>10.538300</td>\n",
       "      <td>1.596000</td>\n",
       "      <td>1.591700</td>\n",
       "      <td>11.186500</td>\n",
       "      <td>12.437600</td>\n",
       "      <td>...</td>\n",
       "      <td>15.259474</td>\n",
       "      <td>18.084909</td>\n",
       "      <td>1538.119829</td>\n",
       "      <td>1528.182792</td>\n",
       "      <td>1518.284314</td>\n",
       "      <td>1424.361883</td>\n",
       "      <td>1417.048755</td>\n",
       "      <td>1408.105488</td>\n",
       "      <td>0.094000</td>\n",
       "      <td>0.611500</td>\n",
       "    </tr>\n",
       "    <tr>\n",
       "      <th>std</th>\n",
       "      <td>20.610136</td>\n",
       "      <td>13.185008</td>\n",
       "      <td>2478.744964</td>\n",
       "      <td>4.644735</td>\n",
       "      <td>5.632533</td>\n",
       "      <td>7.104321</td>\n",
       "      <td>0.836692</td>\n",
       "      <td>0.846205</td>\n",
       "      <td>15.325149</td>\n",
       "      <td>16.811965</td>\n",
       "      <td>...</td>\n",
       "      <td>50.014076</td>\n",
       "      <td>68.313519</td>\n",
       "      <td>1062.034516</td>\n",
       "      <td>1072.857133</td>\n",
       "      <td>1089.535111</td>\n",
       "      <td>983.576267</td>\n",
       "      <td>992.816492</td>\n",
       "      <td>1008.027904</td>\n",
       "      <td>0.291843</td>\n",
       "      <td>0.264530</td>\n",
       "    </tr>\n",
       "    <tr>\n",
       "      <th>min</th>\n",
       "      <td>0.000000</td>\n",
       "      <td>0.000000</td>\n",
       "      <td>0.000000</td>\n",
       "      <td>0.000000</td>\n",
       "      <td>0.000000</td>\n",
       "      <td>0.000000</td>\n",
       "      <td>0.000000</td>\n",
       "      <td>0.000000</td>\n",
       "      <td>0.000000</td>\n",
       "      <td>0.000000</td>\n",
       "      <td>...</td>\n",
       "      <td>0.000000</td>\n",
       "      <td>0.000000</td>\n",
       "      <td>0.000000</td>\n",
       "      <td>0.000000</td>\n",
       "      <td>0.000000</td>\n",
       "      <td>0.000000</td>\n",
       "      <td>0.000000</td>\n",
       "      <td>0.000000</td>\n",
       "      <td>0.000000</td>\n",
       "      <td>0.034863</td>\n",
       "    </tr>\n",
       "    <tr>\n",
       "      <th>25%</th>\n",
       "      <td>0.000000</td>\n",
       "      <td>27.000000</td>\n",
       "      <td>0.000000</td>\n",
       "      <td>7.000000</td>\n",
       "      <td>7.000000</td>\n",
       "      <td>7.000000</td>\n",
       "      <td>2.000000</td>\n",
       "      <td>2.000000</td>\n",
       "      <td>1.000000</td>\n",
       "      <td>1.000000</td>\n",
       "      <td>...</td>\n",
       "      <td>0.000000</td>\n",
       "      <td>0.000000</td>\n",
       "      <td>810.357500</td>\n",
       "      <td>803.927500</td>\n",
       "      <td>797.902500</td>\n",
       "      <td>715.577500</td>\n",
       "      <td>717.057500</td>\n",
       "      <td>709.060000</td>\n",
       "      <td>0.000000</td>\n",
       "      <td>0.385011</td>\n",
       "    </tr>\n",
       "    <tr>\n",
       "      <th>50%</th>\n",
       "      <td>10.000000</td>\n",
       "      <td>35.000000</td>\n",
       "      <td>900.000000</td>\n",
       "      <td>9.000000</td>\n",
       "      <td>9.000000</td>\n",
       "      <td>9.000000</td>\n",
       "      <td>2.000000</td>\n",
       "      <td>2.000000</td>\n",
       "      <td>6.000000</td>\n",
       "      <td>7.000000</td>\n",
       "      <td>...</td>\n",
       "      <td>0.000000</td>\n",
       "      <td>0.000000</td>\n",
       "      <td>1388.135000</td>\n",
       "      <td>1386.940000</td>\n",
       "      <td>1386.295000</td>\n",
       "      <td>1308.300000</td>\n",
       "      <td>1307.235000</td>\n",
       "      <td>1307.020000</td>\n",
       "      <td>0.000000</td>\n",
       "      <td>0.692716</td>\n",
       "    </tr>\n",
       "    <tr>\n",
       "      <th>75%</th>\n",
       "      <td>20.000000</td>\n",
       "      <td>45.000000</td>\n",
       "      <td>2000.000000</td>\n",
       "      <td>11.000000</td>\n",
       "      <td>12.000000</td>\n",
       "      <td>13.000000</td>\n",
       "      <td>2.000000</td>\n",
       "      <td>2.000000</td>\n",
       "      <td>15.000000</td>\n",
       "      <td>17.000000</td>\n",
       "      <td>...</td>\n",
       "      <td>12.267500</td>\n",
       "      <td>12.000000</td>\n",
       "      <td>2057.677500</td>\n",
       "      <td>2058.780000</td>\n",
       "      <td>2058.780000</td>\n",
       "      <td>1893.577500</td>\n",
       "      <td>1893.342500</td>\n",
       "      <td>1895.310000</td>\n",
       "      <td>0.000000</td>\n",
       "      <td>0.835200</td>\n",
       "    </tr>\n",
       "    <tr>\n",
       "      <th>max</th>\n",
       "      <td>160.000000</td>\n",
       "      <td>99.000000</td>\n",
       "      <td>57750.000000</td>\n",
       "      <td>52.000000</td>\n",
       "      <td>51.000000</td>\n",
       "      <td>79.000000</td>\n",
       "      <td>5.000000</td>\n",
       "      <td>5.000000</td>\n",
       "      <td>273.000000</td>\n",
       "      <td>203.000000</td>\n",
       "      <td>...</td>\n",
       "      <td>873.110000</td>\n",
       "      <td>1760.000000</td>\n",
       "      <td>16694.350000</td>\n",
       "      <td>16694.350000</td>\n",
       "      <td>16694.350000</td>\n",
       "      <td>16189.350000</td>\n",
       "      <td>16189.350000</td>\n",
       "      <td>16189.350000</td>\n",
       "      <td>1.000000</td>\n",
       "      <td>0.994358</td>\n",
       "    </tr>\n",
       "  </tbody>\n",
       "</table>\n",
       "<p>8 rows × 31 columns</p>\n",
       "</div>"
      ],
      "text/plain": [
       "          INC_RANGE           AGE        INCOME  AMT_CHARGED1  AMT_CHARGED2  \\\n",
       "count  10000.000000  10000.000000  10000.000000  10000.000000  10000.000000   \n",
       "mean      15.952500     36.746900   1573.020478      9.728900     10.307800   \n",
       "std       20.610136     13.185008   2478.744964      4.644735      5.632533   \n",
       "min        0.000000      0.000000      0.000000      0.000000      0.000000   \n",
       "25%        0.000000     27.000000      0.000000      7.000000      7.000000   \n",
       "50%       10.000000     35.000000    900.000000      9.000000      9.000000   \n",
       "75%       20.000000     45.000000   2000.000000     11.000000     12.000000   \n",
       "max      160.000000     99.000000  57750.000000     52.000000     51.000000   \n",
       "\n",
       "       AMT_CHARGED3      CALL_TP1      CALL_TP2       NUM_SP1       NUM_SP2  \\\n",
       "count  10000.000000  10000.000000  10000.000000  10000.000000  10000.000000   \n",
       "mean      10.538300      1.596000      1.591700     11.186500     12.437600   \n",
       "std        7.104321      0.836692      0.846205     15.325149     16.811965   \n",
       "min        0.000000      0.000000      0.000000      0.000000      0.000000   \n",
       "25%        7.000000      2.000000      2.000000      1.000000      1.000000   \n",
       "50%        9.000000      2.000000      2.000000      6.000000      7.000000   \n",
       "75%       13.000000      2.000000      2.000000     15.000000     17.000000   \n",
       "max       79.000000      5.000000      5.000000    273.000000    203.000000   \n",
       "\n",
       "       ...      ONETIME2      ONETIME3      PAY_VAL1      PAY_VAL2  \\\n",
       "count  ...  10000.000000  10000.000000  10000.000000  10000.000000   \n",
       "mean   ...     15.259474     18.084909   1538.119829   1528.182792   \n",
       "std    ...     50.014076     68.313519   1062.034516   1072.857133   \n",
       "min    ...      0.000000      0.000000      0.000000      0.000000   \n",
       "25%    ...      0.000000      0.000000    810.357500    803.927500   \n",
       "50%    ...      0.000000      0.000000   1388.135000   1386.940000   \n",
       "75%    ...     12.267500     12.000000   2057.677500   2058.780000   \n",
       "max    ...    873.110000   1760.000000  16694.350000  16694.350000   \n",
       "\n",
       "           PAY_VAL3      DUE_VAL1      DUE_VAL2      DUE_VAL3      CHURN_FL  \\\n",
       "count  10000.000000  10000.000000  10000.000000  10000.000000  10000.000000   \n",
       "mean    1518.284314   1424.361883   1417.048755   1408.105488      0.094000   \n",
       "std     1089.535111    983.576267    992.816492   1008.027904      0.291843   \n",
       "min        0.000000      0.000000      0.000000      0.000000      0.000000   \n",
       "25%      797.902500    715.577500    717.057500    709.060000      0.000000   \n",
       "50%     1386.295000   1308.300000   1307.235000   1307.020000      0.000000   \n",
       "75%     2058.780000   1893.577500   1893.342500   1895.310000      0.000000   \n",
       "max    16694.350000  16189.350000  16189.350000  16189.350000      1.000000   \n",
       "\n",
       "             TENURE  \n",
       "count  10000.000000  \n",
       "mean       0.611500  \n",
       "std        0.264530  \n",
       "min        0.034863  \n",
       "25%        0.385011  \n",
       "50%        0.692716  \n",
       "75%        0.835200  \n",
       "max        0.994358  \n",
       "\n",
       "[8 rows x 31 columns]"
      ]
     },
     "execution_count": 5,
     "metadata": {},
     "output_type": "execute_result"
    }
   ],
   "source": [
    "df_churn.describe()"
   ]
  },
  {
   "cell_type": "markdown",
   "metadata": {
    "id": "kK7y680O-gIu"
   },
   "source": [
    "### Análises de variáveis\n",
    "\n",
    "Outra tarefa comum na análise de exploratória é entender a nossa variável de interesse (no caso, a coluna **CHURN_FL**) e como ela se relaciona com as demais.\n",
    "\n",
    "Vamos começar entendendo a taxa de *churn* na nossa base. Dado que a variável de interesse é uma flag se aquele cliente deu *churn* ou não, a taxa nada mais é do que a média dessa variável. Substitua a lacuna pelo nome da coluna para calcular sua média no código abaixo."
   ]
  },
  {
   "cell_type": "code",
   "execution_count": 6,
   "metadata": {
    "id": "KM0p_e0NBFai"
   },
   "outputs": [
    {
     "name": "stdout",
     "output_type": "stream",
     "text": [
      "A taxa de churn é: 0.094\n"
     ]
    }
   ],
   "source": [
    "print('A taxa de churn é:', df_churn[\"CHURN_FL\"].mean())"
   ]
  },
  {
   "cell_type": "markdown",
   "metadata": {
    "id": "pe3-EGd5BwTC"
   },
   "source": [
    "Agora vamos ver como essa taxa se comporta de acordo com outras variáveis dos nossos dados. Apenas para exemplo, vamos analisar o *churn* contra duas variáveis (uma numérica e outra categórica), mas em um projeto analisaríamos todas. Você pode tentar trocar as variáveis do exemplo por outras e ver se funciona, mas eventualmente será necessário algumas alterações para melhorar a visualização."
   ]
  },
  {
   "cell_type": "code",
   "execution_count": 7,
   "metadata": {
    "id": "TqDB5YBeCMxD"
   },
   "outputs": [
    {
     "data": {
      "text/plain": [
       "<AxesSubplot:xlabel='CHURN_FL', ylabel='AGE'>"
      ]
     },
     "execution_count": 7,
     "metadata": {},
     "output_type": "execute_result"
    },
    {
     "data": {
      "image/png": "[encoded data removed]",
      "text/plain": [
       "<Figure size 432x288 with 1 Axes>"
      ]
     },
     "metadata": {
      "needs_background": "light"
     },
     "output_type": "display_data"
    }
   ],
   "source": [
    "import matplotlib.pyplot as plt\n",
    "import seaborn as sns\n",
    "\n",
    "sns.boxplot(data=df_churn,\n",
    "            x='CHURN_FL',\n",
    "            y='AGE',\n",
    "            palette=\"colorblind\")"
   ]
  },
  {
   "cell_type": "code",
   "execution_count": 8,
   "metadata": {
    "id": "9CUfO0lhp3ey"
   },
   "outputs": [
    {
     "data": {
      "text/plain": [
       "<AxesSubplot:xlabel='AGE', ylabel='Density'>"
      ]
     },
     "execution_count": 8,
     "metadata": {},
     "output_type": "execute_result"
    },
    {
     "data": {
      "image/png": "[encoded data removed]",
      "text/plain": [
       "<Figure size 432x288 with 1 Axes>"
      ]
     },
     "metadata": {
      "needs_background": "light"
     },
     "output_type": "display_data"
    }
   ],
   "source": [
    "sns.kdeplot(data=df_churn,\n",
    "            x=\"AGE\",\n",
    "            hue=\"CHURN_FL\",\n",
    "            common_norm=False)"
   ]
  },
  {
   "cell_type": "code",
   "execution_count": 9,
   "metadata": {
    "id": "ORCRCvzObmrp"
   },
   "outputs": [
    {
     "data": {
      "text/plain": [
       "<AxesSubplot:xlabel='CREDIT_CLASS', ylabel='CHURN_FL'>"
      ]
     },
     "execution_count": 9,
     "metadata": {},
     "output_type": "execute_result"
    },
    {
     "data": {
      "image/png": "[encoded data removed]",
      "text/plain": [
       "<Figure size 432x288 with 1 Axes>"
      ]
     },
     "metadata": {
      "needs_background": "light"
     },
     "output_type": "display_data"
    }
   ],
   "source": [
    "sns.barplot(data=df_churn,\n",
    "            x=\"CREDIT_CLASS\",\n",
    "            y=\"CHURN_FL\",\n",
    "            hue=\"GENDER\")"
   ]
  },
  {
   "cell_type": "markdown",
   "metadata": {
    "id": "zi9IfVZ50rOu"
   },
   "source": [
    "<a id='fe'></a>\n",
    "## 7. Feature Engineering\n",
    "\n"
   ]
  },
  {
   "cell_type": "code",
   "execution_count": 10,
   "metadata": {
    "id": "9EA_ufYl09zR"
   },
   "outputs": [
    {
     "data": {
      "text/plain": [
       "array(['LATE_ST', 'CREDIT_CLASS', 'GENDER', 'CUST_TYPE', 'CALL_TP3',\n",
       "       'BAN_ST1', 'BAN_ST2', 'BAN_ST3', 'P_METH1', 'P_METH2', 'P_METH3'],\n",
       "      dtype=object)"
      ]
     },
     "execution_count": 10,
     "metadata": {},
     "output_type": "execute_result"
    }
   ],
   "source": [
    "# seleciona colunas categoricas\n",
    "object_cols = df_churn.select_dtypes(include='object').columns.values\n",
    "object_cols"
   ]
  },
  {
   "cell_type": "code",
   "execution_count": 11,
   "metadata": {
    "id": "IjhzUd_I1wfR"
   },
   "outputs": [
    {
     "name": "stdout",
     "output_type": "stream",
     "text": [
      "LATE_ST ['N' 'D']\n",
      "CREDIT_CLASS ['0' 'N' 'S' 'A']\n",
      "GENDER ['F' 'M' 'N']\n",
      "CUST_TYPE ['S' 'R' 'P']\n",
      "CALL_TP3 ['2' '0' '5' ' ' '1']\n",
      "BAN_ST1 ['O' 'S']\n",
      "BAN_ST2 ['O' '0' 'S' 'N' 'T']\n",
      "BAN_ST3 ['O' 'S' '0' 'N']\n",
      "P_METH1 ['DD' 'PB' '0 ' 'CA' 'FM' 'CK']\n",
      "P_METH2 ['DD' 'PB' '0 ' 'CA' 'FM' 'CK']\n",
      "P_METH3 ['DD' 'PB' '0 ' 'CA' 'FM' 'CK']\n"
     ]
    }
   ],
   "source": [
    "# mostra valores distintos dessas colunas\n",
    "for col in object_cols:\n",
    "  print(col, df_churn[col].unique())"
   ]
  },
  {
   "cell_type": "code",
   "execution_count": 12,
   "metadata": {
    "id": "wbtscp3725F5"
   },
   "outputs": [
    {
     "name": "stdout",
     "output_type": "stream",
     "text": [
      "(10000, 77)\n"
     ]
    },
    {
     "data": {
      "text/html": [
       "<div>\n",
       "<style scoped>\n",
       "    .dataframe tbody tr th:only-of-type {\n",
       "        vertical-align: middle;\n",
       "    }\n",
       "\n",
       "    .dataframe tbody tr th {\n",
       "        vertical-align: top;\n",
       "    }\n",
       "\n",
       "    .dataframe thead th {\n",
       "        text-align: right;\n",
       "    }\n",
       "</style>\n",
       "<table border=\"1\" class=\"dataframe\">\n",
       "  <thead>\n",
       "    <tr style=\"text-align: right;\">\n",
       "      <th></th>\n",
       "      <th>INC_RANGE</th>\n",
       "      <th>AGE</th>\n",
       "      <th>INCOME</th>\n",
       "      <th>AMT_CHARGED1</th>\n",
       "      <th>AMT_CHARGED2</th>\n",
       "      <th>AMT_CHARGED3</th>\n",
       "      <th>CALL_TP1</th>\n",
       "      <th>CALL_TP2</th>\n",
       "      <th>NUM_SP1</th>\n",
       "      <th>NUM_SP2</th>\n",
       "      <th>...</th>\n",
       "      <th>P_METH2_CK</th>\n",
       "      <th>P_METH2_DD</th>\n",
       "      <th>P_METH2_FM</th>\n",
       "      <th>P_METH2_PB</th>\n",
       "      <th>P_METH3_0</th>\n",
       "      <th>P_METH3_CA</th>\n",
       "      <th>P_METH3_CK</th>\n",
       "      <th>P_METH3_DD</th>\n",
       "      <th>P_METH3_FM</th>\n",
       "      <th>P_METH3_PB</th>\n",
       "    </tr>\n",
       "  </thead>\n",
       "  <tbody>\n",
       "    <tr>\n",
       "      <th>0</th>\n",
       "      <td>60</td>\n",
       "      <td>47</td>\n",
       "      <td>6000.0</td>\n",
       "      <td>9</td>\n",
       "      <td>11</td>\n",
       "      <td>7</td>\n",
       "      <td>2</td>\n",
       "      <td>2</td>\n",
       "      <td>7</td>\n",
       "      <td>12</td>\n",
       "      <td>...</td>\n",
       "      <td>0</td>\n",
       "      <td>1</td>\n",
       "      <td>0</td>\n",
       "      <td>0</td>\n",
       "      <td>0</td>\n",
       "      <td>0</td>\n",
       "      <td>0</td>\n",
       "      <td>1</td>\n",
       "      <td>0</td>\n",
       "      <td>0</td>\n",
       "    </tr>\n",
       "    <tr>\n",
       "      <th>1</th>\n",
       "      <td>0</td>\n",
       "      <td>0</td>\n",
       "      <td>0.0</td>\n",
       "      <td>5</td>\n",
       "      <td>6</td>\n",
       "      <td>6</td>\n",
       "      <td>0</td>\n",
       "      <td>0</td>\n",
       "      <td>0</td>\n",
       "      <td>1</td>\n",
       "      <td>...</td>\n",
       "      <td>0</td>\n",
       "      <td>0</td>\n",
       "      <td>0</td>\n",
       "      <td>1</td>\n",
       "      <td>0</td>\n",
       "      <td>0</td>\n",
       "      <td>0</td>\n",
       "      <td>0</td>\n",
       "      <td>0</td>\n",
       "      <td>1</td>\n",
       "    </tr>\n",
       "    <tr>\n",
       "      <th>2</th>\n",
       "      <td>0</td>\n",
       "      <td>53</td>\n",
       "      <td>0.0</td>\n",
       "      <td>5</td>\n",
       "      <td>10</td>\n",
       "      <td>7</td>\n",
       "      <td>0</td>\n",
       "      <td>2</td>\n",
       "      <td>0</td>\n",
       "      <td>1</td>\n",
       "      <td>...</td>\n",
       "      <td>0</td>\n",
       "      <td>0</td>\n",
       "      <td>0</td>\n",
       "      <td>1</td>\n",
       "      <td>0</td>\n",
       "      <td>0</td>\n",
       "      <td>0</td>\n",
       "      <td>0</td>\n",
       "      <td>0</td>\n",
       "      <td>1</td>\n",
       "    </tr>\n",
       "    <tr>\n",
       "      <th>3</th>\n",
       "      <td>20</td>\n",
       "      <td>65</td>\n",
       "      <td>2000.0</td>\n",
       "      <td>11</td>\n",
       "      <td>11</td>\n",
       "      <td>11</td>\n",
       "      <td>2</td>\n",
       "      <td>2</td>\n",
       "      <td>15</td>\n",
       "      <td>22</td>\n",
       "      <td>...</td>\n",
       "      <td>0</td>\n",
       "      <td>0</td>\n",
       "      <td>0</td>\n",
       "      <td>1</td>\n",
       "      <td>0</td>\n",
       "      <td>0</td>\n",
       "      <td>0</td>\n",
       "      <td>0</td>\n",
       "      <td>0</td>\n",
       "      <td>1</td>\n",
       "    </tr>\n",
       "    <tr>\n",
       "      <th>4</th>\n",
       "      <td>0</td>\n",
       "      <td>37</td>\n",
       "      <td>0.0</td>\n",
       "      <td>8</td>\n",
       "      <td>9</td>\n",
       "      <td>10</td>\n",
       "      <td>2</td>\n",
       "      <td>2</td>\n",
       "      <td>6</td>\n",
       "      <td>10</td>\n",
       "      <td>...</td>\n",
       "      <td>0</td>\n",
       "      <td>0</td>\n",
       "      <td>0</td>\n",
       "      <td>1</td>\n",
       "      <td>0</td>\n",
       "      <td>0</td>\n",
       "      <td>0</td>\n",
       "      <td>0</td>\n",
       "      <td>0</td>\n",
       "      <td>1</td>\n",
       "    </tr>\n",
       "  </tbody>\n",
       "</table>\n",
       "<p>5 rows × 77 columns</p>\n",
       "</div>"
      ],
      "text/plain": [
       "   INC_RANGE  AGE  INCOME  AMT_CHARGED1  AMT_CHARGED2  AMT_CHARGED3  CALL_TP1  \\\n",
       "0         60   47  6000.0             9            11             7         2   \n",
       "1          0    0     0.0             5             6             6         0   \n",
       "2          0   53     0.0             5            10             7         0   \n",
       "3         20   65  2000.0            11            11            11         2   \n",
       "4          0   37     0.0             8             9            10         2   \n",
       "\n",
       "   CALL_TP2  NUM_SP1  NUM_SP2  ...  P_METH2_CK  P_METH2_DD  P_METH2_FM  \\\n",
       "0         2        7       12  ...           0           1           0   \n",
       "1         0        0        1  ...           0           0           0   \n",
       "2         2        0        1  ...           0           0           0   \n",
       "3         2       15       22  ...           0           0           0   \n",
       "4         2        6       10  ...           0           0           0   \n",
       "\n",
       "   P_METH2_PB  P_METH3_0   P_METH3_CA  P_METH3_CK  P_METH3_DD  P_METH3_FM  \\\n",
       "0           0           0           0           0           1           0   \n",
       "1           1           0           0           0           0           0   \n",
       "2           1           0           0           0           0           0   \n",
       "3           1           0           0           0           0           0   \n",
       "4           1           0           0           0           0           0   \n",
       "\n",
       "   P_METH3_PB  \n",
       "0           0  \n",
       "1           1  \n",
       "2           1  \n",
       "3           1  \n",
       "4           1  \n",
       "\n",
       "[5 rows x 77 columns]"
      ]
     },
     "execution_count": 12,
     "metadata": {},
     "output_type": "execute_result"
    }
   ],
   "source": [
    "# cria variaveis dummies\n",
    "df_churn = pd.concat([df_churn.drop(object_cols, axis=1),\n",
    "                      pd.get_dummies(df_churn[object_cols], prefix=object_cols)], axis=1)\n",
    "print(df_churn.shape)\n",
    "df_churn.head()"
   ]
  },
  {
   "cell_type": "code",
   "execution_count": 13,
   "metadata": {
    "id": "UThFZ5vsbyU3"
   },
   "outputs": [
    {
     "data": {
      "text/plain": [
       "Index(['INC_RANGE', 'AGE', 'INCOME', 'AMT_CHARGED1', 'AMT_CHARGED2',\n",
       "       'AMT_CHARGED3', 'CALL_TP1', 'CALL_TP2', 'NUM_SP1', 'NUM_SP2', 'NUM_SP3',\n",
       "       'DUR1', 'DUR2', 'DUR3', 'CALLS1', 'CALLS2', 'CALLS3', 'RECURR1',\n",
       "       'RECURR2', 'RECURR3', 'ONETIME1', 'ONETIME2', 'ONETIME3', 'PAY_VAL1',\n",
       "       'PAY_VAL2', 'PAY_VAL3', 'DUE_VAL1', 'DUE_VAL2', 'DUE_VAL3', 'CHURN_FL',\n",
       "       'TENURE', 'LATE_ST_D', 'LATE_ST_N', 'CREDIT_CLASS_0', 'CREDIT_CLASS_A',\n",
       "       'CREDIT_CLASS_N', 'CREDIT_CLASS_S', 'GENDER_F', 'GENDER_M', 'GENDER_N',\n",
       "       'CUST_TYPE_P', 'CUST_TYPE_R', 'CUST_TYPE_S', 'CALL_TP3_ ', 'CALL_TP3_0',\n",
       "       'CALL_TP3_1', 'CALL_TP3_2', 'CALL_TP3_5', 'BAN_ST1_O', 'BAN_ST1_S',\n",
       "       'BAN_ST2_0', 'BAN_ST2_N', 'BAN_ST2_O', 'BAN_ST2_S', 'BAN_ST2_T',\n",
       "       'BAN_ST3_0', 'BAN_ST3_N', 'BAN_ST3_O', 'BAN_ST3_S', 'P_METH1_0 ',\n",
       "       'P_METH1_CA', 'P_METH1_CK', 'P_METH1_DD', 'P_METH1_FM', 'P_METH1_PB',\n",
       "       'P_METH2_0 ', 'P_METH2_CA', 'P_METH2_CK', 'P_METH2_DD', 'P_METH2_FM',\n",
       "       'P_METH2_PB', 'P_METH3_0 ', 'P_METH3_CA', 'P_METH3_CK', 'P_METH3_DD',\n",
       "       'P_METH3_FM', 'P_METH3_PB'],\n",
       "      dtype='object')"
      ]
     },
     "execution_count": 13,
     "metadata": {},
     "output_type": "execute_result"
    }
   ],
   "source": [
    "df_churn.columns"
   ]
  },
  {
   "cell_type": "markdown",
   "metadata": {
    "id": "N5JH3-niChZg"
   },
   "source": [
    "<a id='model'></a>\n",
    "## 8. Construção do Modelo\n",
    "\n",
    "### Separação de treino e teste\n",
    "\n",
    "Para começar, vamos separar nossos dados em treino e teste. Essa é uma etapa que deve ser feita em todos os modelos supervisionados que você for fazer daqui pra frente, para garantir a qualidade do modelo. Basicamente, aplicamos as técnicas de *machine learning* na base de treino e verificamos os resultados na base de teste para garantir que não há *overfitting*. O código abaixo separa os dados com a função ```train_test_split``` do ```sklearn```, mantendo a mesma proporção da sua variável resposta em ambos os *datasets*."
   ]
  },
  {
   "cell_type": "code",
   "execution_count": 14,
   "metadata": {
    "id": "-pUo3p-IKRzH"
   },
   "outputs": [
    {
     "name": "stdout",
     "output_type": "stream",
     "text": [
      "X_train (7000, 76)\n",
      "X_test (3000, 76)\n",
      "y_train (7000,)\n",
      "y_test (3000,)\n"
     ]
    }
   ],
   "source": [
    "from sklearn.model_selection import train_test_split\n",
    "\n",
    "X = df_churn.drop(\"CHURN_FL\", axis=1).values\n",
    "y = df_churn[\"CHURN_FL\"].values\n",
    "\n",
    "X_train, X_test, y_train, y_test = train_test_split(X, y, test_size=0.3, random_state=2404)\n",
    "\n",
    "print('X_train', X_train.shape)\n",
    "print('X_test', X_test.shape)\n",
    "print('y_train', y_train.shape)\n",
    "print('y_test', y_test.shape)"
   ]
  },
  {
   "cell_type": "markdown",
   "metadata": {
    "id": "5NY2mh45LwTd"
   },
   "source": [
    "Vamos de fato à criação do modelo agora. Para exemplo, vamos usar 3 técnicas de classificação apresentadas no notebook de introdução ao *machine learning*.\n",
    "\n",
    "### Árvore de Decisão"
   ]
  },
  {
   "cell_type": "code",
   "execution_count": 15,
   "metadata": {
    "id": "EW3fV355L5F_"
   },
   "outputs": [
    {
     "name": "stdout",
     "output_type": "stream",
     "text": [
      "[[2689   19]\n",
      " [ 196   96]]\n"
     ]
    },
    {
     "data": {
      "image/png": "[encoded data removed]",
      "text/plain": [
       "<Figure size 1440x864 with 1 Axes>"
      ]
     },
     "metadata": {
      "needs_background": "light"
     },
     "output_type": "display_data"
    }
   ],
   "source": [
    "from sklearn.tree import DecisionTreeClassifier, plot_tree\n",
    "from sklearn.metrics import confusion_matrix\n",
    "\n",
    "tree = DecisionTreeClassifier(max_depth=4)\n",
    "tree.fit(X_train, y_train)\n",
    "\n",
    "y_pred_tree = tree.predict(X_test)\n",
    "y_prob_pred_tree = [x[1] for x in tree.predict_proba(X_test)]\n",
    "\n",
    "print(confusion_matrix(y_test, y_pred_tree))\n",
    "\n",
    "plt.figure(figsize=(20,12))\n",
    "plot_tree(tree, fontsize=8)\n",
    "plt.show()"
   ]
  },
  {
   "cell_type": "markdown",
   "metadata": {
    "id": "4xcu5tzoNkEI"
   },
   "source": [
    "### Regressão Logística"
   ]
  },
  {
   "cell_type": "code",
   "execution_count": 16,
   "metadata": {
    "id": "NCGDe_EbN_3u"
   },
   "outputs": [
    {
     "name": "stdout",
     "output_type": "stream",
     "text": [
      "[[2683   25]\n",
      " [ 223   69]]\n"
     ]
    },
    {
     "name": "stderr",
     "output_type": "stream",
     "text": [
      "C:\\Users\\yrbel\\AppData\\Local\\Programs\\Python\\Python310\\lib\\site-packages\\sklearn\\linear_model\\_logistic.py:444: ConvergenceWarning: lbfgs failed to converge (status=1):\n",
      "STOP: TOTAL NO. of ITERATIONS REACHED LIMIT.\n",
      "\n",
      "Increase the number of iterations (max_iter) or scale the data as shown in:\n",
      "    https://scikit-learn.org/stable/modules/preprocessing.html\n",
      "Please also refer to the documentation for alternative solver options:\n",
      "    https://scikit-learn.org/stable/modules/linear_model.html#logistic-regression\n",
      "  n_iter_i = _check_optimize_result(\n"
     ]
    }
   ],
   "source": [
    "from sklearn.linear_model import LogisticRegression\n",
    "\n",
    "logreg = LogisticRegression(max_iter=1000)\n",
    "logreg.fit(X_train, y_train)\n",
    "\n",
    "y_pred_logreg = logreg.predict(X_test)\n",
    "y_prob_pred_logreg = [x[1] for x in logreg.predict_proba(X_test)]\n",
    "\n",
    "print(confusion_matrix(y_test, y_pred_logreg))"
   ]
  },
  {
   "cell_type": "markdown",
   "metadata": {
    "id": "hnwM36rkN1O5"
   },
   "source": [
    "### k-vizinhos mais próximos (k-Nearest Neighbors/k-NN)"
   ]
  },
  {
   "cell_type": "code",
   "execution_count": 17,
   "metadata": {
    "id": "V7MHkVK3OTcG"
   },
   "outputs": [
    {
     "name": "stdout",
     "output_type": "stream",
     "text": [
      "[[2653   55]\n",
      " [ 243   49]]\n"
     ]
    }
   ],
   "source": [
    "from sklearn.neighbors import KNeighborsClassifier\n",
    "\n",
    "knn = KNeighborsClassifier(n_neighbors=3)\n",
    "knn.fit(X_train, y_train)\n",
    "\n",
    "y_pred_knn = knn.predict(X_test)\n",
    "y_prob_pred_knn = [x[1] for x in knn.predict_proba(X_test)]\n",
    "\n",
    "print(confusion_matrix(y_test, y_pred_knn))"
   ]
  },
  {
   "cell_type": "markdown",
   "metadata": {
    "id": "C8_hBxeZPIOg"
   },
   "source": [
    "<a id='eval'></a>\n",
    "### Avaliação dos Modelos\n",
    "\n",
    "Já vimos na criação dos modelos uma métrica de avaliação, a matriz de confusão. Porém, essa não é a melhor métrica para avaliação dos modelos de classificação. Entraremos mais a fundo nesse tema mais pra frente, mas trazemos aqui a a curva ROC e a área sob a curva."
   ]
  },
  {
   "cell_type": "code",
   "execution_count": 18,
   "metadata": {
    "id": "RMEeUzXCMr8B"
   },
   "outputs": [
    {
     "data": {
      "image/png": "[encoded data removed]",
      "text/plain": [
       "<Figure size 432x288 with 1 Axes>"
      ]
     },
     "metadata": {
      "needs_background": "light"
     },
     "output_type": "display_data"
    }
   ],
   "source": [
    "from sklearn.metrics import roc_curve, auc\n",
    "\n",
    "fpr_tree, tpr_tree, thresholds_tree = roc_curve(y_test, y_prob_pred_tree)\n",
    "auc_tree = auc(fpr_tree, tpr_tree)\n",
    "fpr_logreg, tpr_logreg, thresholds_logreg = roc_curve(y_test, y_prob_pred_logreg)\n",
    "auc_logreg = auc(fpr_logreg, tpr_logreg)\n",
    "fpr_knn, tpr_knn, thresholds_knn = roc_curve(y_test, y_prob_pred_knn)\n",
    "auc_knn = auc(fpr_knn, tpr_knn)\n",
    "\n",
    "plt.figure()\n",
    "plt.plot(fpr_tree, tpr_tree, color='blue', label='ROC curve tree (area = %0.2f)' % auc_tree)\n",
    "plt.plot(fpr_logreg, tpr_logreg, color='red', label='ROC curve logreg (area = %0.2f)' % auc_logreg)\n",
    "plt.plot(fpr_knn, tpr_knn, color='green', label='ROC curve knn (area = %0.2f)' % auc_knn)\n",
    "plt.plot([0, 1], [0, 1], color='black', linestyle='--')\n",
    "plt.xlim([0.0, 1.0])\n",
    "plt.ylim([0.0, 1.05])\n",
    "plt.xlabel('False Positive Rate')\n",
    "plt.ylabel('True Positive Rate')\n",
    "plt.title('Curva ROC')\n",
    "plt.legend(loc=\"lower right\")\n",
    "plt.show()"
   ]
  },
  {
   "cell_type": "code",
   "execution_count": null,
   "metadata": {
    "id": "kx6Ho3Pd5Dzw"
   },
   "outputs": [],
   "source": []
  }
 ],
 "metadata": {
  "colab": {
   "collapsed_sections": [],
   "name": "Encontro Modulo 1.ipynb",
   "provenance": []
  },
  "kernelspec": {
   "display_name": "Python 3 (ipykernel)",
   "language": "python",
   "name": "python3"
  },
  "language_info": {
   "codemirror_mode": {
    "name": "ipython",
    "version": 3
   },
   "file_extension": ".py",
   "mimetype": "text/x-python",
   "name": "python",
   "nbconvert_exporter": "python",
   "pygments_lexer": "ipython3",
   "version": "3.10.5"
  }
 },
 "nbformat": 4,
 "nbformat_minor": 1
}
